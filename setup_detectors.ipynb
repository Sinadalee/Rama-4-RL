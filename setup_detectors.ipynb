{
 "cells": [
  {
   "cell_type": "code",
   "execution_count": 1,
   "metadata": {},
   "outputs": [],
   "source": [
    "import os, sys\n",
    "sys.path.append(os.path.join('/home/ring/sumo-svn/', 'tools'))\n",
    "from sumolib import checkBinary\n",
    "import traci\n",
    "import sumolib\n",
    "import numpy as np\n",
    "import csv\n",
    "import pathlib\n",
    "import glob\n",
    "import math\n",
    "import matplotlib.pyplot as plt\n",
    "import pandas as pd\n",
    "import lxml.etree as ET\n",
    "from xml.etree import ElementTree\n",
    "import xml.etree.cElementTree as eleTree"
   ]
  },
  {
   "cell_type": "code",
   "execution_count": 2,
   "metadata": {},
   "outputs": [
    {
     "data": {
      "text/plain": [
       "(20, 'SUMO 1.6.0')"
      ]
     },
     "execution_count": 2,
     "metadata": {},
     "output_type": "execute_result"
    }
   ],
   "source": [
    "sumoBinary = checkBinary('sumo-gui')\n",
    "traci.start([sumoBinary, \"-c\", \"Kasemrat-SUMO-UsingBookNetFile/osm.sumocfg\",\n",
    "                             \"--tripinfo-output\", \"tripinfo.xml\", '--start','true','--quit-on-end','true','--time-to-teleport','-1'])"
   ]
  },
  {
   "cell_type": "code",
   "execution_count": 13,
   "metadata": {},
   "outputs": [],
   "source": [
    "def setUpLaneAreaDetector(POI):\n",
    "\n",
    "    root = ET.Element('additionals')\n",
    "    net = sumolib.net.readNet('Onnut/osm.net.xml')\n",
    "\n",
    "    for key in POI:\n",
    "        edgeID = net.getEdge(key)\n",
    "        numOfLane=edgeID.getLaneNumber()\n",
    "        edgeLength=edgeID.getLength()\n",
    "        for lane_index in range(numOfLane):\n",
    "            initial_Pos=0.00\n",
    "            subelement=ET.Element('e2Detector')\n",
    "            subelement.set('id',key+'_'+str(lane_index))\n",
    "            subelement.set('lane',key+'_'+str(lane_index))\n",
    "            subelement.set('pos',str(initial_Pos))\n",
    "            subelement.set('endPos','0.00')\n",
    "            subelement.set('friendlyPos','True')\n",
    "            subelement.set('length',str(edgeLength))\n",
    "            subelement.set('freq','2.00')\n",
    "            subelement.set('file',\"map_grid_lock_output1.xml\")\n",
    "            subelement.set('cont','0')\n",
    "            subelement.set('timeThreshold','1.00')\n",
    "            subelement.set('speedThreshold','1.39')\n",
    "            subelement.set('jamThreshold','10.00')\n",
    "\n",
    "            root.append(subelement)\n",
    "\n",
    "    tree=ET.ElementTree(root)\n",
    "    filename = \"Onnut/detectors_02.add.xml\"\n",
    "    tree.write(filename, xml_declaration=True, pretty_print=True)"
   ]
  },
  {
   "cell_type": "code",
   "execution_count": 14,
   "metadata": {},
   "outputs": [],
   "source": [
    "setUpLaneAreaDetector(['824816455', '824816456', '824116560#0'])"
   ]
  },
  {
   "cell_type": "code",
   "execution_count": 15,
   "metadata": {},
   "outputs": [
    {
     "ename": "KeyError",
     "evalue": "'default'",
     "output_type": "error",
     "traceback": [
      "\u001b[1;31m---------------------------------------------------------------------------\u001b[0m",
      "\u001b[1;31mKeyError\u001b[0m                                  Traceback (most recent call last)",
      "\u001b[1;32m<ipython-input-15-58920bab68aa>\u001b[0m in \u001b[0;36m<module>\u001b[1;34m\u001b[0m\n\u001b[1;32m----> 1\u001b[1;33m \u001b[0mtraci\u001b[0m\u001b[1;33m.\u001b[0m\u001b[0mclose\u001b[0m\u001b[1;33m(\u001b[0m\u001b[1;33m)\u001b[0m\u001b[1;33m\u001b[0m\u001b[1;33m\u001b[0m\u001b[0m\n\u001b[0m",
      "\u001b[1;32mC:\\Program Files (x86)\\Eclipse\\Sumo\\tools\\traci\\main.py\u001b[0m in \u001b[0;36mclose\u001b[1;34m(wait)\u001b[0m\n\u001b[0;32m    213\u001b[0m         \u001b[1;32mraise\u001b[0m \u001b[0mFatalTraCIError\u001b[0m\u001b[1;33m(\u001b[0m\u001b[1;34m\"Not connected.\"\u001b[0m\u001b[1;33m)\u001b[0m\u001b[1;33m\u001b[0m\u001b[1;33m\u001b[0m\u001b[0m\n\u001b[0;32m    214\u001b[0m     \u001b[0m_connections\u001b[0m\u001b[1;33m[\u001b[0m\u001b[1;34m\"\"\u001b[0m\u001b[1;33m]\u001b[0m\u001b[1;33m.\u001b[0m\u001b[0mclose\u001b[0m\u001b[1;33m(\u001b[0m\u001b[0mwait\u001b[0m\u001b[1;33m)\u001b[0m\u001b[1;33m\u001b[0m\u001b[1;33m\u001b[0m\u001b[0m\n\u001b[1;32m--> 215\u001b[1;33m     \u001b[1;32mdel\u001b[0m \u001b[0m_connections\u001b[0m\u001b[1;33m[\u001b[0m\u001b[0m_currentLabel\u001b[0m\u001b[1;33m[\u001b[0m\u001b[1;36m0\u001b[0m\u001b[1;33m]\u001b[0m\u001b[1;33m]\u001b[0m\u001b[1;33m\u001b[0m\u001b[1;33m\u001b[0m\u001b[0m\n\u001b[0m\u001b[0;32m    216\u001b[0m \u001b[1;33m\u001b[0m\u001b[0m\n\u001b[0;32m    217\u001b[0m \u001b[1;33m\u001b[0m\u001b[0m\n",
      "\u001b[1;31mKeyError\u001b[0m: 'default'"
     ]
    }
   ],
   "source": [
    "traci.close()"
   ]
  },
  {
   "cell_type": "code",
   "execution_count": null,
   "metadata": {},
   "outputs": [],
   "source": []
  }
 ],
 "metadata": {
  "kernelspec": {
   "display_name": "Python 3",
   "language": "python",
   "name": "python3"
  },
  "language_info": {
   "codemirror_mode": {
    "name": "ipython",
    "version": 3
   },
   "file_extension": ".py",
   "mimetype": "text/x-python",
   "name": "python",
   "nbconvert_exporter": "python",
   "pygments_lexer": "ipython3",
   "version": "3.8.6rc1"
  }
 },
 "nbformat": 4,
 "nbformat_minor": 4
}
